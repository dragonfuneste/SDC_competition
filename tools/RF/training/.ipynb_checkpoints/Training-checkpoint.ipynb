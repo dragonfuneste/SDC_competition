{
 "cells": [
  {
   "cell_type": "markdown",
   "id": "391aed2b-9419-4f5c-b0f0-b11f38ff6834",
   "metadata": {},
   "source": [
    "# Trainning of the RF "
   ]
  },
  {
   "cell_type": "code",
   "execution_count": 2,
   "id": "1b240eb9-40d0-406a-a567-e11540cde1b5",
   "metadata": {},
   "outputs": [],
   "source": [
    "from dataclasses import dataclass\n",
    "from typing import List, Tuple\n",
    "import numpy as np\n",
    "import pandas as pd\n",
    "import matplotlib.pyplot as plt\n",
    "import shapely\n",
    "\n",
    "json_path = \"sdc-test-data.json\""
   ]
  },
  {
   "cell_type": "code",
   "execution_count": 3,
   "id": "0c6b8c0f-3f08-4dbe-923f-2d0f9640eea3",
   "metadata": {},
   "outputs": [],
   "source": [
    "\n",
    "\n",
    "@dataclass\n",
    "class TestDetails:\n",
    "    test_id: str\n",
    "    hasFailed: bool\n",
    "    sim_time: float\n",
    "    road_points: list[tuple[float, float]]\n",
    "\n",
    "\n",
    "def _curvature_profile(test_detail: TestDetails) -> list[float]:\n",
    "    \"\"\"\n",
    "    Compute the curvature for every meter of the road.\n",
    "\n",
    "    The following website was used as a reference: https://de.wikipedia.org/wiki/Kr%C3%BCmmung\n",
    "    \"\"\"\n",
    "    #print(\"compute curvature profile\")\n",
    "    road_shape = shapely.LineString(test_detail.road_points)\n",
    "\n",
    "    delta_s = 2  # 10 meters\n",
    "\n",
    "    curvature_profile = np.zeros(int(road_shape.length)) # we want the curvature for every meter\n",
    "    for s in range(len(curvature_profile)):\n",
    "        #s = (i+1)*delta_s\n",
    "\n",
    "        # ignore the edge cases close to the ends of the road\n",
    "        if (s < delta_s/2) or (s > road_shape.length-delta_s/2):\n",
    "            continue\n",
    "\n",
    "\n",
    "        pt_q: shapely.Point = road_shape.interpolate(s-delta_s, normalized=False)\n",
    "        pt_r: shapely.Point = road_shape.interpolate(s-delta_s/2, normalized=False)\n",
    "\n",
    "        pt_s: shapely.Point = road_shape.interpolate(s, normalized=False)\n",
    "\n",
    "        pt_t: shapely.Point = road_shape.interpolate(s+delta_s/2, normalized=False)\n",
    "        pt_u: shapely.Point = road_shape.interpolate(s+delta_s, normalized=False)\n",
    "\n",
    "        tangent_r_vec = np.array((pt_s.x-pt_q.x, pt_s.y-pt_q.y))\n",
    "        tangent_t_vec = np.array((pt_u.x-pt_s.x, pt_u.y-pt_s.y))\n",
    "\n",
    "        cos_phi = np.dot(tangent_r_vec, tangent_t_vec)/(np.linalg.norm(tangent_r_vec)*np.linalg.norm(tangent_t_vec))\n",
    "        phi = np.arccos(cos_phi)\n",
    "\n",
    "        kappa = phi/delta_s\n",
    "        if np.isnan(kappa):\n",
    "            continue\n",
    "\n",
    "        curvature_profile[s] = kappa\n",
    "\n",
    "    return curvature_profile"
   ]
  },
  {
   "cell_type": "markdown",
   "id": "6f39d81e-21bc-4ee0-a9f0-93b4b4b278e1",
   "metadata": {},
   "source": [
    "## NEW FUNCTION"
   ]
  },
  {
   "cell_type": "code",
   "execution_count": 5,
   "id": "c3d0bbd4-3f5f-4663-ad08-27495ad70088",
   "metadata": {},
   "outputs": [],
   "source": [
    "def Radius_metric(radius: np.ndarray) -> dict:\n",
    "    return radius[np.isfinite(radius)]\n",
    "\n",
    "\n",
    "def _distance_profile(test_detail: TestDetails) -> list[float]:\n",
    "    \"\"\"\n",
    "    Compute the cumulative distance along the road at each meter.\n",
    "\n",
    "    This function returns the distance from the start of the road for each sampled point.\n",
    "    \"\"\"\n",
    "    road_shape = shapely.LineString(test_detail.road_points)\n",
    "\n",
    "    delta_s = 1  # Resolution to compute I put 1 meter to be more flexible \n",
    "    total_length = int(road_shape.length)\n",
    "\n",
    "    distance_profile = np.zeros(total_length)\n",
    "\n",
    "    for s in range(total_length):\n",
    "        if s < 0 or s > road_shape.length:\n",
    "            continue\n",
    "\n",
    "        pt: shapely.Point = road_shape.interpolate(s, normalized=False)\n",
    "        distance_profile[s] = s \n",
    "\n",
    "    return distance_profile\n",
    "\n",
    "\n",
    "\n",
    "def build_feature_df(tests: List[TestDetails]):\n",
    "    rows = []\n",
    "    seuil = 1e-9\n",
    "    for t in tests:\n",
    "        kappa = np.asarray(_curvature_profile(t), dtype=float)\n",
    "        radius = Radius_metric(kappa)\n",
    "        dist = np.asarray(_distance_profile(t), dtype=float)\n",
    "        rows.append({\n",
    "            \"test_id\": t.test_id,\n",
    "            \"hasFailed\": int(bool(t.hasFailed)),\n",
    "            \"sim_time\": float(t.sim_time) if t.sim_time == t.sim_time else np.nan,\n",
    "            (\"curvature_mean\", \"curvature_std\"): (np.mean(kappa), np.std(kappa)) , \n",
    "            (\"dist_mean\", \"dist_std\"): (np.mean(dist), np.mean(dist)) , \n",
    "            (\"Radius_mean\", \"Radius_std\"): (np.std(radius), np.std(radius))\n",
    "        })\n",
    "    return pd.DataFrame(rows)\n",
    "\n",
    "\n"
   ]
  },
  {
   "cell_type": "code",
   "execution_count": 6,
   "id": "b9e0c7d0-da50-4866-b979-8d11df70e452",
   "metadata": {},
   "outputs": [],
   "source": [
    "\n",
    "df = pd.read_json(json_path)\n",
    "\n",
    "\n",
    "if \"meta_data\" in df.columns:\n",
    "    meta_df = pd.json_normalize(df[\"meta_data\"])\n",
    "    df_flat = pd.concat([meta_df, df[\"road_points\"]], axis=1)\n",
    "else:\n",
    "    df_flat = df.copy()\n",
    "\n",
    "# Colonnes\n",
    "label_col = \"test_info.test_outcome\"        \n",
    "id_col    = \"test_info.test_id\"            \n",
    "sim_col   = \"test_info.test_duration\"                     \n",
    "\n",
    "tests: List[TestDetails] = []\n",
    "for i, row in df_flat.iterrows():\n",
    "    pts_raw = row[\"road_points\"]\n",
    "    pts = [(p[\"x\"], p[\"y\"]) for p in pts_raw] if isinstance(pts_raw, list) else []\n",
    "\n",
    "\n",
    "    # BLABLA BLA  this for becoming a dataclass\n",
    "    test_id = str(row[id_col]) if id_col in df_flat.columns and pd.notna(row[id_col]) else f\"test_{i}\"\n",
    "    outcome = str(row[label_col]) if label_col in df_flat.columns and pd.notna(row[label_col]) else \"PASS\"\n",
    "    hasFailed = (outcome.upper() == \"FAIL\")\n",
    "    sim_time = float(row[sim_col]) if sim_col in df_flat.columns and pd.notna(row[sim_col]) else np.nan\n",
    "\n",
    "    tests.append(TestDetails(test_id=test_id, hasFailed=hasFailed, sim_time=sim_time, road_points=pts))\n",
    "\n",
    "df_features = build_feature_df(tests)\n",
    "\n"
   ]
  },
  {
   "cell_type": "code",
   "execution_count": 7,
   "id": "bbad7844-39f4-4957-83c0-df90eeec9de0",
   "metadata": {},
   "outputs": [],
   "source": [
    "curvature_mean = df_features[(\"curvature_mean\", \"curvature_std\")].apply(lambda x: x[0])\n",
    "curvature_std = df_features[(\"curvature_mean\", \"curvature_std\")].apply(lambda x: x[1])\n",
    "\n",
    "\n",
    "radius_mean = df_features[(\"Radius_mean\", \"Radius_std\")].apply(lambda x: x[0])\n",
    "radius_std = df_features[(\"Radius_mean\", \"Radius_std\")].apply(lambda x: x[1])\n",
    "\n",
    "\n",
    "dist_mean = df_features[ (\"dist_mean\", \"dist_std\")].apply(lambda x: x[0])\n",
    "dist_std = df_features[ (\"dist_mean\", \"dist_std\")].apply(lambda x: x[1])"
   ]
  },
  {
   "cell_type": "code",
   "execution_count": 8,
   "id": "76a8301f-9395-48c2-b5f7-0d8a974cc76f",
   "metadata": {},
   "outputs": [],
   "source": [
    "from sklearn.ensemble import RandomForestClassifier\n",
    "from sklearn.model_selection import train_test_split\n",
    "from sklearn.utils.class_weight import compute_class_weight\n",
    "from sklearn.metrics import accuracy_score, f1_score, roc_auc_score, classification_report\n",
    "\n"
   ]
  },
  {
   "cell_type": "code",
   "execution_count": 45,
   "id": "00490fa7-a410-428e-a480-d060f5eb79d3",
   "metadata": {},
   "outputs": [
    {
     "name": "stdout",
     "output_type": "stream",
     "text": [
      "Class weights: {0: 0.7925311203319502, 1: 1.3546099290780143}\n",
      "Accuracy: 0.646 | F1: 0.500 | AUC: 0.697\n",
      "              precision    recall  f1-score   support\n",
      "\n",
      "           0      0.709     0.744     0.726       121\n",
      "           1      0.523     0.479     0.500        71\n",
      "\n",
      "    accuracy                          0.646       192\n",
      "   macro avg      0.616     0.611     0.613       192\n",
      "weighted avg      0.640     0.646     0.642       192\n",
      "\n"
     ]
    }
   ],
   "source": [
    "X = dist_mean\n",
    "y = radius_mean\n",
    "z = curvature_mean \n",
    "name = \"RF_model_3M\"\n",
    "target =  df_features[\"hasFailed\"]\n",
    "# PERMIT TO CHANGE QUIKLY OUR CODE TO HAVE THINGS TRAIN MULTIPLE MODEL TO FIND THE RIGHT METRIC MAX USE 3 METRIC I DIDN T PUT MORE BECAUSE I DIDN T SEE THE NECESSITY GIVEN THAT I ONLY HAVE 3 function ready \n",
    "def is_nan_array(arr):\n",
    "    return arr is None or np.all(np.isnan(arr))\n",
    "\n",
    "if is_nan_array(y) and is_nan_array(z):\n",
    "    X_features = pd.DataFrame({'dist_mean': X})\n",
    "elif is_nan_array(z):\n",
    "    X_features = pd.DataFrame({'dist_mean': X, 'dist_std': y})\n",
    "else:\n",
    "    X_features = pd.DataFrame({'dist_mean': X, 'dist_std': y, 'curvature_mean': z})\n",
    "\n",
    "\n",
    "# USE THE SAME TRAINNING SIZE AND TEST SIZE AS THE SDC SCISSOR \n",
    "X_tr, X_te, y_tr, y_te = train_test_split(\n",
    "    X_features, target, test_size=0.2, stratify=target, random_state=0\n",
    ")\n",
    "\n",
    "#\n",
    "classes = np.unique(y_tr)\n",
    "cls_weights = compute_class_weight(class_weight=\"balanced\", classes=classes, y=y_tr)\n",
    "cw = {int(c): float(w) for c, w in zip(classes, cls_weights)}\n",
    "print(\"Class weights:\", cw)\n",
    "\n",
    "# TAIN RANDOM FOREST \n",
    "rf = RandomForestClassifier(\n",
    "    n_estimators=400,\n",
    "    max_depth=None,\n",
    "    min_samples_leaf=1,\n",
    "    n_jobs=-1,\n",
    "    random_state=0,\n",
    "    class_weight=cw\n",
    ")\n",
    "rf.fit(X_tr, y_tr)\n",
    "\n",
    "\n",
    "y_pred = rf.predict(X_te)\n",
    "y_proba = rf.predict_proba(X_te)[:, 1]\n",
    "\n",
    "# Évaluation\n",
    "acc = accuracy_score(y_te, y_pred)\n",
    "f1 = f1_score(y_te, y_pred)\n",
    "auc = roc_auc_score(y_te, y_proba)\n",
    "\n",
    "print(f\"Accuracy: {acc:.3f} | F1: {f1:.3f} | AUC: {auc:.3f}\")\n",
    "print(classification_report(y_te, y_pred, digits=3))\n"
   ]
  },
  {
   "cell_type": "code",
   "execution_count": 46,
   "id": "b0f2cfbf-a96d-469a-b70f-921ab73dc0b2",
   "metadata": {},
   "outputs": [],
   "source": [
    "from sklearn.metrics import confusion_matrix\n",
    "\n",
    "\n",
    "def plot_confusion_matrix(y_true, y_pred, labels=[\"PASS\", \"FAIL\"]):\n",
    "    \"\"\"\n",
    "\n",
    "    Parameters:\n",
    "    - y_true : array-like, valeurs réelles\n",
    "    - y_pred : array-like, valeurs prédites\n",
    "    - labels : list, noms des classes (par défaut [\"PASS\", \"FAIL\"])\n",
    "    \"\"\"\n",
    "    cm = confusion_matrix(y_true, y_pred, labels=[0, 1])\n",
    "\n",
    "    fig, ax = plt.subplots(figsize=(5, 4))\n",
    "    im = ax.imshow(cm, interpolation='nearest', cmap='Blues')\n",
    "    ax.figure.colorbar(im, ax=ax)\n",
    "\n",
    "    ax.set(\n",
    "        xticks=np.arange(len(labels)),\n",
    "        yticks=np.arange(len(labels)),\n",
    "        xticklabels=labels,\n",
    "        yticklabels=labels,\n",
    "        ylabel='Truth',\n",
    "        xlabel='Prediction',\n",
    "        title='Confusion Matrix'\n",
    "    )\n",
    "\n",
    "    thresh = cm.max() / 2.0 if cm.size else 0.0\n",
    "    for i in range(cm.shape[0]):\n",
    "        for j in range(cm.shape[1]):\n",
    "            ax.text(j, i, format(cm[i, j], 'd'),\n",
    "                    ha=\"center\", va=\"center\",\n",
    "                    color=\"white\" if cm[i, j] > thresh else \"black\")\n",
    "\n",
    "    plt.tight_layout()\n",
    "    plt.show()\n"
   ]
  },
  {
   "cell_type": "code",
   "execution_count": 49,
   "id": "43fbb17d-0c41-40bb-9052-edb2285df790",
   "metadata": {},
   "outputs": [
    {
     "data": {
      "image/png": "[encoded data removed]",
      "text/plain": [
       "<Figure size 500x400 with 2 Axes>"
      ]
     },
     "metadata": {},
     "output_type": "display_data"
    }
   ],
   "source": [
    "cm = plot_confusion_matrix(y_te, y_pred)  \n"
   ]
  },
  {
   "cell_type": "code",
   "execution_count": 51,
   "id": "10568912-0617-4938-855d-9ac045702b43",
   "metadata": {
    "scrolled": true
   },
   "outputs": [
    {
     "data": {
      "image/png": "[encoded data removed]",
      "text/plain": [
       "<Figure size 640x480 with 1 Axes>"
      ]
     },
     "metadata": {},
     "output_type": "display_data"
    }
   ],
   "source": [
    "from sklearn.metrics import RocCurveDisplay\n",
    "RocCurveDisplay.from_predictions(y_te, y_proba)\n",
    "plt.show()\n"
   ]
  },
  {
   "cell_type": "code",
   "execution_count": 53,
   "id": "296739f4-78ae-45d3-b1b1-51f31477badd",
   "metadata": {},
   "outputs": [
    {
     "data": {
      "text/plain": [
       "['./../RF_model_3M.joblib']"
      ]
     },
     "execution_count": 53,
     "metadata": {},
     "output_type": "execute_result"
    }
   ],
   "source": [
    "import joblib\n",
    "\n",
    "joblib.dump(rf, f\"./../{name}.joblib\")"
   ]
  },
  {
   "cell_type": "markdown",
   "id": "8a047556-ecce-4c28-9703-35c0800ad14f",
   "metadata": {},
   "source": [
    "1 metric only curvature\n",
    "2 metric cuvature + distance"
   ]
  },
  {
   "cell_type": "code",
   "execution_count": null,
   "id": "2175e864-ab03-4ece-8655-2168833c4d84",
   "metadata": {},
   "outputs": [],
   "source": []
  }
 ],
 "metadata": {
  "kernelspec": {
   "display_name": "Python [conda env:base] *",
   "language": "python",
   "name": "conda-base-py"
  },
  "language_info": {
   "codemirror_mode": {
    "name": "ipython",
    "version": 3
   },
   "file_extension": ".py",
   "mimetype": "text/x-python",
   "name": "python",
   "nbconvert_exporter": "python",
   "pygments_lexer": "ipython3",
   "version": "3.12.7"
  }
 },
 "nbformat": 4,
 "nbformat_minor": 5
}
